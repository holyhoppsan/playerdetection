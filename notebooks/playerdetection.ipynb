{
 "cells": [
  {
   "cell_type": "markdown",
   "metadata": {},
   "source": [
    "# Step 0 - Configuration and setup of dependencies"
   ]
  },
  {
   "cell_type": "code",
   "execution_count": 7,
   "metadata": {},
   "outputs": [
    {
     "name": "stdout",
     "output_type": "stream",
     "text": [
      "Requirement already satisfied: matplotlib in /Users/danielhall/miniconda3/envs/playerdetection/lib/python3.12/site-packages (3.8.3)\n",
      "Requirement already satisfied: contourpy>=1.0.1 in /Users/danielhall/miniconda3/envs/playerdetection/lib/python3.12/site-packages (from matplotlib) (1.2.0)\n",
      "Requirement already satisfied: cycler>=0.10 in /Users/danielhall/miniconda3/envs/playerdetection/lib/python3.12/site-packages (from matplotlib) (0.12.1)\n",
      "Requirement already satisfied: fonttools>=4.22.0 in /Users/danielhall/miniconda3/envs/playerdetection/lib/python3.12/site-packages (from matplotlib) (4.50.0)\n",
      "Requirement already satisfied: kiwisolver>=1.3.1 in /Users/danielhall/miniconda3/envs/playerdetection/lib/python3.12/site-packages (from matplotlib) (1.4.5)\n",
      "Requirement already satisfied: numpy<2,>=1.21 in /Users/danielhall/miniconda3/envs/playerdetection/lib/python3.12/site-packages (from matplotlib) (1.26.4)\n",
      "Requirement already satisfied: packaging>=20.0 in /Users/danielhall/miniconda3/envs/playerdetection/lib/python3.12/site-packages (from matplotlib) (24.0)\n",
      "Requirement already satisfied: pillow>=8 in /Users/danielhall/miniconda3/envs/playerdetection/lib/python3.12/site-packages (from matplotlib) (10.2.0)\n",
      "Requirement already satisfied: pyparsing>=2.3.1 in /Users/danielhall/miniconda3/envs/playerdetection/lib/python3.12/site-packages (from matplotlib) (3.1.2)\n",
      "Requirement already satisfied: python-dateutil>=2.7 in /Users/danielhall/miniconda3/envs/playerdetection/lib/python3.12/site-packages (from matplotlib) (2.9.0)\n",
      "Requirement already satisfied: six>=1.5 in /Users/danielhall/miniconda3/envs/playerdetection/lib/python3.12/site-packages (from python-dateutil>=2.7->matplotlib) (1.16.0)\n",
      "Requirement already satisfied: pandas in /Users/danielhall/miniconda3/envs/playerdetection/lib/python3.12/site-packages (2.2.1)\n",
      "Requirement already satisfied: numpy<2,>=1.26.0 in /Users/danielhall/miniconda3/envs/playerdetection/lib/python3.12/site-packages (from pandas) (1.26.4)\n",
      "Requirement already satisfied: python-dateutil>=2.8.2 in /Users/danielhall/miniconda3/envs/playerdetection/lib/python3.12/site-packages (from pandas) (2.9.0)\n",
      "Requirement already satisfied: pytz>=2020.1 in /Users/danielhall/miniconda3/envs/playerdetection/lib/python3.12/site-packages (from pandas) (2024.1)\n",
      "Requirement already satisfied: tzdata>=2022.7 in /Users/danielhall/miniconda3/envs/playerdetection/lib/python3.12/site-packages (from pandas) (2024.1)\n",
      "Requirement already satisfied: six>=1.5 in /Users/danielhall/miniconda3/envs/playerdetection/lib/python3.12/site-packages (from python-dateutil>=2.8.2->pandas) (1.16.0)\n",
      "Requirement already satisfied: torch in /Users/danielhall/miniconda3/envs/playerdetection/lib/python3.12/site-packages (2.2.1)\n",
      "Requirement already satisfied: torchvision in /Users/danielhall/miniconda3/envs/playerdetection/lib/python3.12/site-packages (0.17.1)\n",
      "Requirement already satisfied: torchaudio in /Users/danielhall/miniconda3/envs/playerdetection/lib/python3.12/site-packages (2.2.1)\n",
      "Requirement already satisfied: filelock in /Users/danielhall/miniconda3/envs/playerdetection/lib/python3.12/site-packages (from torch) (3.13.2)\n",
      "Requirement already satisfied: typing-extensions>=4.8.0 in /Users/danielhall/miniconda3/envs/playerdetection/lib/python3.12/site-packages (from torch) (4.10.0)\n",
      "Requirement already satisfied: sympy in /Users/danielhall/miniconda3/envs/playerdetection/lib/python3.12/site-packages (from torch) (1.12)\n",
      "Requirement already satisfied: networkx in /Users/danielhall/miniconda3/envs/playerdetection/lib/python3.12/site-packages (from torch) (3.2.1)\n",
      "Requirement already satisfied: jinja2 in /Users/danielhall/miniconda3/envs/playerdetection/lib/python3.12/site-packages (from torch) (3.1.3)\n",
      "Requirement already satisfied: fsspec in /Users/danielhall/miniconda3/envs/playerdetection/lib/python3.12/site-packages (from torch) (2024.3.1)\n",
      "Requirement already satisfied: numpy in /Users/danielhall/miniconda3/envs/playerdetection/lib/python3.12/site-packages (from torchvision) (1.26.4)\n",
      "Requirement already satisfied: pillow!=8.3.*,>=5.3.0 in /Users/danielhall/miniconda3/envs/playerdetection/lib/python3.12/site-packages (from torchvision) (10.2.0)\n",
      "Requirement already satisfied: MarkupSafe>=2.0 in /Users/danielhall/miniconda3/envs/playerdetection/lib/python3.12/site-packages (from jinja2->torch) (2.1.5)\n",
      "Requirement already satisfied: mpmath>=0.19 in /Users/danielhall/miniconda3/envs/playerdetection/lib/python3.12/site-packages (from sympy->torch) (1.3.0)\n"
     ]
    }
   ],
   "source": [
    "# Dependencies installation\n",
    "!pip install matplotlib\n",
    "!pip install pandas\n",
    "!pip install torch torchvision torchaudio\n"
   ]
  },
  {
   "cell_type": "code",
   "execution_count": 8,
   "metadata": {},
   "outputs": [],
   "source": [
    "import cv2\n",
    "import numpy as np\n",
    "import matplotlib.pyplot as plt\n",
    "\n",
    "import torch\n",
    "from torch.utils.data import Dataset, DataLoader\n",
    "\n",
    "import pandas as pd"
   ]
  },
  {
   "cell_type": "markdown",
   "metadata": {},
   "source": [
    "# Step 1 - review dataset"
   ]
  },
  {
   "cell_type": "code",
   "execution_count": 21,
   "metadata": {},
   "outputs": [
    {
     "name": "stdout",
     "output_type": "stream",
     "text": [
      "       image_id    x    y  orientation  radius  class\n",
      "0             0  269  450     0.000000      17      0\n",
      "1             0  533  299     0.663225      45      1\n",
      "2             0  539  427     0.610865      46      1\n",
      "3             0  365  148     0.488692      45      1\n",
      "4             0  472  136     2.426008      40      1\n",
      "...         ...  ...  ...          ...     ...    ...\n",
      "11495       499  356  363     0.575959      37      2\n",
      "11496       499  477  371     2.268928      41      2\n",
      "11497       499  934   74     2.076942      45      2\n",
      "11498       499  525  283     0.506145      46      2\n",
      "11499       499  284  397     5.916666      38      2\n",
      "\n",
      "[11500 rows x 6 columns]\n",
      "   id                                              image\n",
      "0   0  b'\\xff\\xd8\\xff\\xe0\\x00\\x10JFIF\\x00\\x01\\x01\\x00...\n",
      "1   1  b'\\xff\\xd8\\xff\\xe0\\x00\\x10JFIF\\x00\\x01\\x01\\x00...\n",
      "2   2  b'\\xff\\xd8\\xff\\xe0\\x00\\x10JFIF\\x00\\x01\\x01\\x00...\n",
      "3   3  b'\\xff\\xd8\\xff\\xe0\\x00\\x10JFIF\\x00\\x01\\x01\\x00...\n",
      "4   4  b'\\xff\\xd8\\xff\\xe0\\x00\\x10JFIF\\x00\\x01\\x01\\x00...\n"
     ]
    }
   ],
   "source": [
    "import pandas as pd\n",
    "\n",
    "# Specify the path to your Parquet file\n",
    "image_dir = \"../datasets/easy-500\"\n",
    "parquet_file_path = f\"{image_dir}/images.parquet\"\n",
    "labels_parquet_file_path = f\"{image_dir}/labels.parquet\"\n",
    "\n",
    "# Load the Parquet file into a DataFrame\n",
    "df = pd.read_parquet(parquet_file_path, engine='pyarrow')  # or engine='fastparquet'\n",
    "\n",
    "df_labels = pd.read_parquet(labels_parquet_file_path)\n",
    "\n",
    "print(df_labels)\n",
    "\n",
    "def dump_images(df):\n",
    "  for i, row in df.iterrows():\n",
    "    image = cv2.imdecode(np.frombuffer(row['image'], np.uint8), cv2.IMREAD_COLOR)\n",
    "    success = cv2.imwrite(f'../{image_dir}/{i}.jpg', image)\n",
    "\n",
    "# Now you can work with the DataFrame `df`\n",
    "print(df.head())\n",
    "\n",
    "dump_images(df)"
   ]
  },
  {
   "cell_type": "code",
   "execution_count": 30,
   "metadata": {},
   "outputs": [],
   "source": [
    "class CircleObjectsDataset(Dataset):\n",
    "    def __init__(self, annotations_file, img_dir, target_size=(256, 256)):\n",
    "        self.img_labels = pd.read_parquet(annotations_file)\n",
    "        self.img_dir = img_dir\n",
    "        self.target_size = target_size\n",
    "\n",
    "    def __len__(self):\n",
    "        return len(self.img_labels)\n",
    "\n",
    "    def __getitem__(self, idx):\n",
    "        img_path = f\"{self.img_dir}/{int(self.img_labels.iloc[idx]['image_id'])}.jpg\"\n",
    "        print(img_path)\n",
    "        # Load image with cv2 and convert to RGB\n",
    "        image = cv2.imread(img_path)\n",
    "        image = cv2.cvtColor(image, cv2.COLOR_BGR2RGB)\n",
    "        # Resize image\n",
    "        image = cv2.resize(image, self.target_size, interpolation=cv2.INTER_LINEAR)\n",
    "        # Normalize image\n",
    "        image = image / 255.0\n",
    "        image = np.transpose(image, (2, 0, 1))  # From HWC to CHW\n",
    "        image = torch.tensor(image, dtype=torch.float)\n",
    "        \n",
    "        label = self.img_labels.iloc[idx][['x', 'y', 'radius', 'orientation', 'class']].values\n",
    "        label = torch.tensor(label, dtype=torch.float)\n",
    "        \n",
    "        return image, label"
   ]
  },
  {
   "cell_type": "code",
   "execution_count": 29,
   "metadata": {},
   "outputs": [
    {
     "name": "stdout",
     "output_type": "stream",
     "text": [
      "../datasets/easy-500/0.jpg\n",
      "torch.Size([3, 256, 256])\n",
      "tensor([269., 450.,  17.,   0.,   0.])\n"
     ]
    }
   ],
   "source": [
    "\n",
    "players_data_set = CircleObjectsDataset(labels_parquet_file_path, image_dir)\n",
    "image, label = players_data_set.__getitem__(0)\n",
    "print(image.shape)\n",
    "print(label)"
   ]
  }
 ],
 "metadata": {
  "kernelspec": {
   "display_name": "playerdetection",
   "language": "python",
   "name": "python3"
  },
  "language_info": {
   "codemirror_mode": {
    "name": "ipython",
    "version": 3
   },
   "file_extension": ".py",
   "mimetype": "text/x-python",
   "name": "python",
   "nbconvert_exporter": "python",
   "pygments_lexer": "ipython3",
   "version": "3.12.2"
  }
 },
 "nbformat": 4,
 "nbformat_minor": 2
}
